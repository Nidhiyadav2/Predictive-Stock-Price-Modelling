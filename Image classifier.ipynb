{
  "nbformat": 4,
  "nbformat_minor": 0,
  "metadata": {
    "colab": {
      "provenance": []
    },
    "kernelspec": {
      "name": "python3",
      "display_name": "Python 3"
    },
    "language_info": {
      "name": "python"
    }
  },
  "cells": [
    {
      "cell_type": "code",
      "execution_count": null,
      "metadata": {
        "id": "iDDKA4TWhJlY"
      },
      "outputs": [],
      "source": []
    },
    {
      "cell_type": "code",
      "source": [
        "from google.colab import drive\n",
        "drive.mount('/content/drive')"
      ],
      "metadata": {
        "colab": {
          "base_uri": "https://localhost:8080/"
        },
        "id": "VPLvZbp4hQwC",
        "outputId": "1363faaa-6090-4526-821e-98345efa1f12"
      },
      "execution_count": null,
      "outputs": [
        {
          "output_type": "stream",
          "name": "stdout",
          "text": [
            "Mounted at /content/drive\n"
          ]
        }
      ]
    },
    {
      "cell_type": "code",
      "source": [
        "import numpy as np\n",
        "import tensorflow as tf\n",
        "import matplotlib.pyplot as plt"
      ],
      "metadata": {
        "id": "yWZQtZ87jUKb"
      },
      "execution_count": null,
      "outputs": []
    },
    {
      "cell_type": "code",
      "source": [
        "training_set = tf.keras.utils.image_dataset_from_directory( '/content/drive/MyDrive/train',\n",
        "  labels=\"inferred\", label_mode=\"categorical\",\n",
        "  class_names=None,\n",
        "  color_mode=\"rgb\",\n",
        "  batch_size=32,\n",
        "  image_size=(64, 64),\n",
        "  shuffle=True,\n",
        "  seed=None,\n",
        "  validation_split=None,\n",
        "  subset=None,\n",
        "  interpolation=\"bilinear\", follow_links=False, crop_to_aspect_ratio=False )"
      ],
      "metadata": {
        "colab": {
          "base_uri": "https://localhost:8080/"
        },
        "id": "-56YVTpekqz1",
        "outputId": "63db5e13-f39f-4c2b-abf8-8e2a8ca25f89"
      },
      "execution_count": null,
      "outputs": [
        {
          "output_type": "stream",
          "name": "stdout",
          "text": [
            "Found 3115 files belonging to 36 classes.\n"
          ]
        }
      ]
    },
    {
      "cell_type": "code",
      "source": [
        "validation_set = tf.keras.utils.image_dataset_from_directory( '/content/drive/MyDrive/validation',\n",
        "labels=\"inferred\",\n",
        "label_mode=\"categorical\",\n",
        "class_names=None,\n",
        "color_mode=\"rgb\",\n",
        "batch_size=32,\n",
        "image_size=(64, 64),\n",
        "shuffle=True,\n",
        "seed=None,\n",
        "validation_split=None,\n",
        "subset=None,\n",
        "interpolation=\"bilinear\",\n",
        "follow_links=False,\n",
        "crop_to_aspect_ratio=False )"
      ],
      "metadata": {
        "colab": {
          "base_uri": "https://localhost:8080/"
        },
        "id": "w4-gJ5BbmHcC",
        "outputId": "9570171a-a0fb-4867-d746-31ff7984cd6c"
      },
      "execution_count": null,
      "outputs": [
        {
          "output_type": "stream",
          "name": "stdout",
          "text": [
            "Found 351 files belonging to 36 classes.\n"
          ]
        }
      ]
    },
    {
      "cell_type": "code",
      "source": [
        "cnn = tf.keras.models.Sequential()"
      ],
      "metadata": {
        "id": "z8nV8e8umxq6"
      },
      "execution_count": null,
      "outputs": []
    },
    {
      "cell_type": "code",
      "source": [
        "cnn.add(tf.keras.layers.Conv2D(filters=32,kernel_size=3,padding='same',activation='relu',input_shape=[64,64,3]))\n",
        "cnn.add(tf.keras.layers.Conv2D(filters=32,kernel_size=3,activation='relu'))\n",
        "cnn.add(tf.keras.layers.MaxPool2D(pool_size=2,strides=2))"
      ],
      "metadata": {
        "id": "Z3MJyVQim1tj"
      },
      "execution_count": null,
      "outputs": []
    },
    {
      "cell_type": "code",
      "source": [
        "cnn.add(tf.keras.layers.Dropout(0.25))"
      ],
      "metadata": {
        "id": "xZ_XzwymnMiA"
      },
      "execution_count": null,
      "outputs": []
    },
    {
      "cell_type": "code",
      "source": [
        "cnn.add(tf.keras.layers.Conv2D(filters=64,kernel_size=3,padding='same',activation='relu'))\n",
        "cnn.add(tf.keras.layers.Conv2D(filters=64,kernel_size=3,activation='relu'))\n",
        "cnn.add(tf.keras.layers.MaxPool2D(pool_size=2,strides=2))"
      ],
      "metadata": {
        "id": "l1YIaFnwnPbB"
      },
      "execution_count": null,
      "outputs": []
    },
    {
      "cell_type": "code",
      "source": [
        "cnn.add(tf.keras.layers.Dropout(0.25))"
      ],
      "metadata": {
        "id": "TSaTfPPanV1Q"
      },
      "execution_count": null,
      "outputs": []
    },
    {
      "cell_type": "code",
      "source": [
        "cnn.add(tf.keras.layers.Flatten())"
      ],
      "metadata": {
        "id": "6sp1jIHDnWAb"
      },
      "execution_count": null,
      "outputs": []
    },
    {
      "cell_type": "code",
      "source": [
        "cnn.add(tf.keras.layers.Dense(units=512,activation='relu'))"
      ],
      "metadata": {
        "id": "wJzlImHnnZug"
      },
      "execution_count": null,
      "outputs": []
    },
    {
      "cell_type": "code",
      "source": [
        "cnn.add(tf.keras.layers.Dense(units=256,activation='relu'))"
      ],
      "metadata": {
        "id": "sKH4ODgJnceh"
      },
      "execution_count": null,
      "outputs": []
    },
    {
      "cell_type": "code",
      "source": [
        "cnn.add(tf.keras.layers.Dropout(0.5)) #To avoid overfitting"
      ],
      "metadata": {
        "id": "uropX1hQneUK"
      },
      "execution_count": null,
      "outputs": []
    },
    {
      "cell_type": "code",
      "source": [
        "#Output Layer\n",
        "cnn.add(tf.keras.layers.Dense(units=36,activation='softmax'))"
      ],
      "metadata": {
        "id": "JmswEek_ng0G"
      },
      "execution_count": null,
      "outputs": []
    },
    {
      "cell_type": "code",
      "source": [
        "cnn.compile(optimizer='adam',loss='categorical_crossentropy',metrics=['accuracy'])"
      ],
      "metadata": {
        "id": "t6EhjhA-nuAc"
      },
      "execution_count": null,
      "outputs": []
    },
    {
      "cell_type": "code",
      "source": [
        "cnn.summary()"
      ],
      "metadata": {
        "colab": {
          "base_uri": "https://localhost:8080/"
        },
        "id": "CkXfi9bHn1bq",
        "outputId": "953c656b-4b00-48ac-e51d-5c6ab0dace7b"
      },
      "execution_count": null,
      "outputs": [
        {
          "output_type": "stream",
          "name": "stdout",
          "text": [
            "Model: \"sequential\"\n",
            "_________________________________________________________________\n",
            " Layer (type)                Output Shape              Param #   \n",
            "=================================================================\n",
            " conv2d (Conv2D)             (None, 64, 64, 32)        896       \n",
            "                                                                 \n",
            " conv2d_1 (Conv2D)           (None, 62, 62, 32)        9248      \n",
            "                                                                 \n",
            " max_pooling2d (MaxPooling2  (None, 31, 31, 32)        0         \n",
            " D)                                                              \n",
            "                                                                 \n",
            " dropout (Dropout)           (None, 31, 31, 32)        0         \n",
            "                                                                 \n",
            " conv2d_2 (Conv2D)           (None, 31, 31, 64)        18496     \n",
            "                                                                 \n",
            " conv2d_3 (Conv2D)           (None, 29, 29, 64)        36928     \n",
            "                                                                 \n",
            " max_pooling2d_1 (MaxPoolin  (None, 14, 14, 64)        0         \n",
            " g2D)                                                            \n",
            "                                                                 \n",
            " dropout_1 (Dropout)         (None, 14, 14, 64)        0         \n",
            "                                                                 \n",
            " flatten (Flatten)           (None, 12544)             0         \n",
            "                                                                 \n",
            " dense (Dense)               (None, 512)               6423040   \n",
            "                                                                 \n",
            " dense_1 (Dense)             (None, 256)               131328    \n",
            "                                                                 \n",
            " dropout_2 (Dropout)         (None, 256)               0         \n",
            "                                                                 \n",
            " dense_2 (Dense)             (None, 36)                9252      \n",
            "                                                                 \n",
            "=================================================================\n",
            "Total params: 6629188 (25.29 MB)\n",
            "Trainable params: 6629188 (25.29 MB)\n",
            "Non-trainable params: 0 (0.00 Byte)\n",
            "_________________________________________________________________\n"
          ]
        }
      ]
    },
    {
      "cell_type": "code",
      "source": [
        "training_history = cnn.fit(x=training_set,validation_data=validation_set,epochs=32)"
      ],
      "metadata": {
        "colab": {
          "base_uri": "https://localhost:8080/"
        },
        "id": "90JQ9zPUn5Mi",
        "outputId": "bed48677-8151-42e3-de44-c9814c254ea2"
      },
      "execution_count": 18,
      "outputs": [
        {
          "output_type": "stream",
          "name": "stdout",
          "text": [
            "Epoch 1/32\n",
            "98/98 [==============================] - 86s 835ms/step - loss: 2.1933 - accuracy: 0.3843 - val_loss: 1.8637 - val_accuracy: 0.5128\n",
            "Epoch 2/32\n",
            "98/98 [==============================] - 91s 881ms/step - loss: 2.1018 - accuracy: 0.4205 - val_loss: 1.8083 - val_accuracy: 0.5271\n",
            "Epoch 3/32\n",
            "98/98 [==============================] - 84s 824ms/step - loss: 2.0162 - accuracy: 0.4427 - val_loss: 1.8307 - val_accuracy: 0.5214\n",
            "Epoch 4/32\n",
            "98/98 [==============================] - 84s 821ms/step - loss: 1.9847 - accuracy: 0.4408 - val_loss: 1.7358 - val_accuracy: 0.5556\n",
            "Epoch 5/32\n",
            "98/98 [==============================] - 84s 819ms/step - loss: 1.9119 - accuracy: 0.4642 - val_loss: 1.8533 - val_accuracy: 0.5356\n",
            "Epoch 6/32\n",
            "98/98 [==============================] - 85s 822ms/step - loss: 1.9129 - accuracy: 0.4754 - val_loss: 1.7057 - val_accuracy: 0.5584\n",
            "Epoch 7/32\n",
            "98/98 [==============================] - 85s 827ms/step - loss: 1.8150 - accuracy: 0.4992 - val_loss: 1.5591 - val_accuracy: 0.6011\n",
            "Epoch 8/32\n",
            "98/98 [==============================] - 86s 827ms/step - loss: 1.7638 - accuracy: 0.5034 - val_loss: 1.6047 - val_accuracy: 0.6068\n",
            "Epoch 9/32\n",
            "98/98 [==============================] - 88s 855ms/step - loss: 1.7571 - accuracy: 0.5169 - val_loss: 1.4200 - val_accuracy: 0.6610\n",
            "Epoch 10/32\n",
            "98/98 [==============================] - 85s 825ms/step - loss: 1.6940 - accuracy: 0.5268 - val_loss: 1.4299 - val_accuracy: 0.6410\n",
            "Epoch 11/32\n",
            "98/98 [==============================] - 84s 818ms/step - loss: 1.5649 - accuracy: 0.5621 - val_loss: 1.4693 - val_accuracy: 0.6296\n",
            "Epoch 12/32\n",
            "98/98 [==============================] - 89s 869ms/step - loss: 1.5328 - accuracy: 0.5772 - val_loss: 1.3737 - val_accuracy: 0.6581\n",
            "Epoch 13/32\n",
            "98/98 [==============================] - 91s 889ms/step - loss: 1.4441 - accuracy: 0.5884 - val_loss: 1.3805 - val_accuracy: 0.6553\n",
            "Epoch 14/32\n",
            "98/98 [==============================] - 85s 824ms/step - loss: 1.4642 - accuracy: 0.6035 - val_loss: 1.3152 - val_accuracy: 0.6781\n",
            "Epoch 15/32\n",
            "98/98 [==============================] - 88s 849ms/step - loss: 1.4537 - accuracy: 0.5897 - val_loss: 1.3895 - val_accuracy: 0.6781\n",
            "Epoch 16/32\n",
            "98/98 [==============================] - 85s 833ms/step - loss: 1.3999 - accuracy: 0.6212 - val_loss: 1.2376 - val_accuracy: 0.7066\n",
            "Epoch 17/32\n",
            "98/98 [==============================] - 85s 825ms/step - loss: 1.2595 - accuracy: 0.6485 - val_loss: 1.1230 - val_accuracy: 0.7379\n",
            "Epoch 18/32\n",
            "98/98 [==============================] - 91s 884ms/step - loss: 1.2816 - accuracy: 0.6568 - val_loss: 1.0832 - val_accuracy: 0.7379\n",
            "Epoch 19/32\n",
            "98/98 [==============================] - 88s 855ms/step - loss: 1.2612 - accuracy: 0.6459 - val_loss: 1.1071 - val_accuracy: 0.7236\n",
            "Epoch 20/32\n",
            "98/98 [==============================] - 88s 856ms/step - loss: 1.2215 - accuracy: 0.6632 - val_loss: 1.1029 - val_accuracy: 0.7521\n",
            "Epoch 21/32\n",
            "98/98 [==============================] - 84s 817ms/step - loss: 1.2343 - accuracy: 0.6661 - val_loss: 1.0416 - val_accuracy: 0.7464\n",
            "Epoch 22/32\n",
            "98/98 [==============================] - 85s 828ms/step - loss: 1.1198 - accuracy: 0.6899 - val_loss: 0.9192 - val_accuracy: 0.7692\n",
            "Epoch 23/32\n",
            "98/98 [==============================] - 85s 821ms/step - loss: 1.1003 - accuracy: 0.7014 - val_loss: 0.9007 - val_accuracy: 0.7778\n",
            "Epoch 24/32\n",
            "98/98 [==============================] - 92s 900ms/step - loss: 1.0495 - accuracy: 0.7047 - val_loss: 0.9252 - val_accuracy: 0.7863\n",
            "Epoch 25/32\n",
            "98/98 [==============================] - 88s 857ms/step - loss: 1.0753 - accuracy: 0.7120 - val_loss: 0.9182 - val_accuracy: 0.8063\n",
            "Epoch 26/32\n",
            "98/98 [==============================] - 84s 817ms/step - loss: 0.9586 - accuracy: 0.7384 - val_loss: 1.0204 - val_accuracy: 0.7749\n",
            "Epoch 27/32\n",
            "98/98 [==============================] - 85s 827ms/step - loss: 0.9397 - accuracy: 0.7432 - val_loss: 0.7957 - val_accuracy: 0.8405\n",
            "Epoch 28/32\n",
            "98/98 [==============================] - 84s 815ms/step - loss: 0.9146 - accuracy: 0.7467 - val_loss: 0.8118 - val_accuracy: 0.8291\n",
            "Epoch 29/32\n",
            "98/98 [==============================] - 89s 831ms/step - loss: 0.8763 - accuracy: 0.7669 - val_loss: 0.9471 - val_accuracy: 0.8234\n",
            "Epoch 30/32\n",
            "98/98 [==============================] - 86s 831ms/step - loss: 0.8897 - accuracy: 0.7583 - val_loss: 0.9233 - val_accuracy: 0.8234\n",
            "Epoch 31/32\n",
            "98/98 [==============================] - 84s 817ms/step - loss: 0.9014 - accuracy: 0.7547 - val_loss: 0.8576 - val_accuracy: 0.8604\n",
            "Epoch 32/32\n",
            "98/98 [==============================] - 87s 850ms/step - loss: 0.8343 - accuracy: 0.7721 - val_loss: 0.9956 - val_accuracy: 0.8177\n"
          ]
        }
      ]
    },
    {
      "cell_type": "code",
      "source": [
        "cnn.save('trained_model.h5')"
      ],
      "metadata": {
        "id": "XFf_wYNpol-I",
        "colab": {
          "base_uri": "https://localhost:8080/"
        },
        "outputId": "5d8c619c-29cd-4e50-ea8a-857b651eaa09"
      },
      "execution_count": 19,
      "outputs": [
        {
          "output_type": "stream",
          "name": "stderr",
          "text": [
            "/usr/local/lib/python3.10/dist-packages/keras/src/engine/training.py:3103: UserWarning: You are saving your model as an HDF5 file via `model.save()`. This file format is considered legacy. We recommend using instead the native Keras format, e.g. `model.save('my_model.keras')`.\n",
            "  saving_api.save_model(\n"
          ]
        }
      ]
    },
    {
      "cell_type": "code",
      "source": [
        "training_history.history #Return Dictionary of history"
      ],
      "metadata": {
        "id": "Lf8E8w5Ton2L",
        "colab": {
          "base_uri": "https://localhost:8080/"
        },
        "outputId": "1e4fe34d-dcbf-49b6-ac82-40266bcbfd86"
      },
      "execution_count": 20,
      "outputs": [
        {
          "output_type": "execute_result",
          "data": {
            "text/plain": [
              "{'loss': [2.193345308303833,\n",
              "  2.10176682472229,\n",
              "  2.016213893890381,\n",
              "  1.9846765995025635,\n",
              "  1.9119112491607666,\n",
              "  1.9129232168197632,\n",
              "  1.8150124549865723,\n",
              "  1.763753890991211,\n",
              "  1.757123589515686,\n",
              "  1.6940239667892456,\n",
              "  1.5648680925369263,\n",
              "  1.532785177230835,\n",
              "  1.4440988302230835,\n",
              "  1.4641631841659546,\n",
              "  1.453743815422058,\n",
              "  1.3998854160308838,\n",
              "  1.259494423866272,\n",
              "  1.2815605401992798,\n",
              "  1.2612009048461914,\n",
              "  1.2214857339859009,\n",
              "  1.234278678894043,\n",
              "  1.1197571754455566,\n",
              "  1.100319743156433,\n",
              "  1.0495270490646362,\n",
              "  1.0753132104873657,\n",
              "  0.9586024284362793,\n",
              "  0.9397112131118774,\n",
              "  0.9146088361740112,\n",
              "  0.8762921094894409,\n",
              "  0.8897489905357361,\n",
              "  0.901391327381134,\n",
              "  0.8343263268470764],\n",
              " 'accuracy': [0.384269654750824,\n",
              "  0.420545756816864,\n",
              "  0.44269663095474243,\n",
              "  0.4407704770565033,\n",
              "  0.46420544385910034,\n",
              "  0.47544142603874207,\n",
              "  0.49919742345809937,\n",
              "  0.5033707618713379,\n",
              "  0.516853928565979,\n",
              "  0.5268057584762573,\n",
              "  0.5621187686920166,\n",
              "  0.577207088470459,\n",
              "  0.5884430408477783,\n",
              "  0.6035313010215759,\n",
              "  0.5897271037101746,\n",
              "  0.6211878061294556,\n",
              "  0.6484751105308533,\n",
              "  0.6568218469619751,\n",
              "  0.645906925201416,\n",
              "  0.6632423996925354,\n",
              "  0.6661316156387329,\n",
              "  0.6898876428604126,\n",
              "  0.7014446258544922,\n",
              "  0.70465487241745,\n",
              "  0.712038516998291,\n",
              "  0.7383627891540527,\n",
              "  0.7431781888008118,\n",
              "  0.7467094659805298,\n",
              "  0.7669342160224915,\n",
              "  0.7582664489746094,\n",
              "  0.7547351717948914,\n",
              "  0.7720706462860107],\n",
              " 'val_loss': [1.8637217283248901,\n",
              "  1.8082695007324219,\n",
              "  1.8306983709335327,\n",
              "  1.7357871532440186,\n",
              "  1.853302240371704,\n",
              "  1.7056896686553955,\n",
              "  1.5591347217559814,\n",
              "  1.6047166585922241,\n",
              "  1.4199612140655518,\n",
              "  1.4298839569091797,\n",
              "  1.4692519903182983,\n",
              "  1.3737499713897705,\n",
              "  1.3804513216018677,\n",
              "  1.3152228593826294,\n",
              "  1.3895167112350464,\n",
              "  1.2376387119293213,\n",
              "  1.122972846031189,\n",
              "  1.0832008123397827,\n",
              "  1.1070716381072998,\n",
              "  1.102916955947876,\n",
              "  1.0415902137756348,\n",
              "  0.9191503524780273,\n",
              "  0.9007024168968201,\n",
              "  0.9252264499664307,\n",
              "  0.9181801080703735,\n",
              "  1.020420789718628,\n",
              "  0.7956870794296265,\n",
              "  0.8118303418159485,\n",
              "  0.9470793008804321,\n",
              "  0.9232865571975708,\n",
              "  0.8576021790504456,\n",
              "  0.995573103427887],\n",
              " 'val_accuracy': [0.5128205418586731,\n",
              "  0.5270655155181885,\n",
              "  0.5213675498962402,\n",
              "  0.5555555820465088,\n",
              "  0.5356125235557556,\n",
              "  0.5584045648574829,\n",
              "  0.6011396050453186,\n",
              "  0.6068376302719116,\n",
              "  0.6609686613082886,\n",
              "  0.6410256624221802,\n",
              "  0.6296296119689941,\n",
              "  0.6581196784973145,\n",
              "  0.6552706360816956,\n",
              "  0.6780626773834229,\n",
              "  0.6780626773834229,\n",
              "  0.7065526843070984,\n",
              "  0.7378917336463928,\n",
              "  0.7378917336463928,\n",
              "  0.7236467003822327,\n",
              "  0.752136766910553,\n",
              "  0.74643874168396,\n",
              "  0.7692307829856873,\n",
              "  0.7777777910232544,\n",
              "  0.7863247990608215,\n",
              "  0.8062677979469299,\n",
              "  0.7749287486076355,\n",
              "  0.8404558300971985,\n",
              "  0.8290598392486572,\n",
              "  0.8233618140220642,\n",
              "  0.8233618140220642,\n",
              "  0.8603988885879517,\n",
              "  0.8176637887954712]}"
            ]
          },
          "metadata": {},
          "execution_count": 20
        }
      ]
    },
    {
      "cell_type": "code",
      "source": [
        "#training_history.history['accuracy']"
      ],
      "metadata": {
        "id": "NPfJwwmpoz-j"
      },
      "execution_count": null,
      "outputs": []
    },
    {
      "cell_type": "code",
      "source": [
        "#Recording History in json\n",
        "import json\n",
        "with open('training_hist.json','w') as f:\n",
        "  json.dump(training_history.history,f)"
      ],
      "metadata": {
        "id": "ZeVZX86Xoq5N"
      },
      "execution_count": 21,
      "outputs": []
    },
    {
      "cell_type": "code",
      "source": [
        "print(training_history.history.keys())"
      ],
      "metadata": {
        "id": "WFAhtVwjovZE",
        "colab": {
          "base_uri": "https://localhost:8080/"
        },
        "outputId": "c3624c88-1034-43e5-d89d-b51ddfa9b56e"
      },
      "execution_count": 22,
      "outputs": [
        {
          "output_type": "stream",
          "name": "stdout",
          "text": [
            "dict_keys(['loss', 'accuracy', 'val_loss', 'val_accuracy'])\n"
          ]
        }
      ]
    },
    {
      "cell_type": "code",
      "source": [
        "print(\"Validation set Accuracy: {} %\".format(training_history.history['val_accuracy'][-1]*100))"
      ],
      "metadata": {
        "id": "9_Qtkz5yoxyf",
        "colab": {
          "base_uri": "https://localhost:8080/"
        },
        "outputId": "f988b5fc-4b2c-4225-daa2-4972d4334d38"
      },
      "execution_count": 28,
      "outputs": [
        {
          "output_type": "stream",
          "name": "stdout",
          "text": [
            "Validation set Accuracy: 81.76637887954712 %\n"
          ]
        }
      ]
    },
    {
      "cell_type": "code",
      "source": [
        "epochs = [i for i in range(1,33)]\n",
        "plt.plot(epochs,training_history.history['accuracy'],color='red')\n",
        "plt.xlabel('No. of Epochs')\n",
        "plt.ylabel('Traiining Accuracy')\n",
        "plt.title('Visualization of Training Accuracy Result')\n",
        "plt.show()\n"
      ],
      "metadata": {
        "id": "iaxgEYa2o2Tj",
        "colab": {
          "base_uri": "https://localhost:8080/",
          "height": 472
        },
        "outputId": "9f93397e-f049-4539-d4af-7c7541bcdddc"
      },
      "execution_count": 46,
      "outputs": [
        {
          "output_type": "display_data",
          "data": {
            "text/plain": [
              "<Figure size 640x480 with 1 Axes>"
            ],
            "image/png": "[encoded data removed]"
          },
          "metadata": {}
        }
      ]
    },
    {
      "cell_type": "code",
      "source": [
        "plt.plot(epochs,training_history.history['val_accuracy'],color='blue')\n",
        "plt.xlabel('No. of Epochs')\n",
        "plt.ylabel('Validation Accuracy')\n",
        "plt.title('Visualization of Validation Accuracy Result')\n",
        "plt.show()\n"
      ],
      "metadata": {
        "colab": {
          "base_uri": "https://localhost:8080/",
          "height": 472
        },
        "id": "YWp6M9Q4OQ4Z",
        "outputId": "e1d5bdd0-2ab9-4001-cc40-acef461db3c1"
      },
      "execution_count": 47,
      "outputs": [
        {
          "output_type": "display_data",
          "data": {
            "text/plain": [
              "<Figure size 640x480 with 1 Axes>"
            ],
            "image/png": "[encoded data removed]"
          },
          "metadata": {}
        }
      ]
    },
    {
      "cell_type": "code",
      "source": [
        "test_set = tf.keras.utils.image_dataset_from_directory( '/content/drive/MyDrive/test',\n",
        "labels=\"inferred\",\n",
        "label_mode=\"categorical\",\n",
        "class_names=None,\n",
        "color_mode=\"rgb\",\n",
        "batch_size=32,\n",
        "image_size=(64, 64),\n",
        "shuffle=True, seed=None, validation_split=None, subset=None, interpolation=\"bilinear\", follow_links=False, crop_to_aspect_ratio=False )"
      ],
      "metadata": {
        "id": "9oR-86hRo6QG",
        "colab": {
          "base_uri": "https://localhost:8080/"
        },
        "outputId": "8aeb2d58-1c96-4df3-9d32-6e995345fea3"
      },
      "execution_count": 49,
      "outputs": [
        {
          "output_type": "stream",
          "name": "stdout",
          "text": [
            "Found 359 files belonging to 36 classes.\n"
          ]
        }
      ]
    },
    {
      "cell_type": "code",
      "source": [
        "test_loss,test_acc = cnn.evaluate(test_set)\n",
        "print('Test accuracy:', test_acc)"
      ],
      "metadata": {
        "id": "b0w82H-No8J6",
        "colab": {
          "base_uri": "https://localhost:8080/"
        },
        "outputId": "e7bfcd8f-c4d7-4829-d251-df96c15200d2"
      },
      "execution_count": 51,
      "outputs": [
        {
          "output_type": "stream",
          "name": "stdout",
          "text": [
            "12/12 [==============================] - 49s 928ms/step - loss: 0.9926 - accuracy: 0.8162\n",
            "Test accuracy: 0.8161559700965881\n"
          ]
        }
      ]
    }
  ]
}